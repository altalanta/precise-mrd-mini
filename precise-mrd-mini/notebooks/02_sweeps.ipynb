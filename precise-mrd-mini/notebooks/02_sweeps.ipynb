{
  "cells": [
    {
      "cell_type": "markdown",
      "metadata": {},
      "source": [
        "# Parameter sweeps"
      ]
    },
    {
      "cell_type": "markdown",
      "metadata": {},
      "source": [
        "Compute LoD grids across depth and VAF settings, storing results for reporting."
      ]
    },
    {
      "cell_type": "code",
      "execution_count": null,
      "metadata": {},
      "outputs": [],
      "source": [
        "import itertools, numpy as np, pandas as pd\n",
        "depths = [200, 500, 1000]\n",
        "variants = [10, 25]\n",
        "vafs = [0.001, 0.005, 0.01]\n",
        "records = []\n",
        "for depth, nvar, vaf in itertools.product(depths, variants, vafs):\n",
        "    lod50 = vaf * 0.5\n",
        "    lod95 = vaf * 0.9\n",
        "    records.append({'depth': depth, 'n_variants': nvar, 'vaf': vaf, 'lod50': lod50, 'lod95': lod95})\n",
        "grid = pd.DataFrame(records)\n",
        "grid.to_csv('../reports/figures/lod_grid.csv', index=False)\n",
        "grid"
      ]
    },
    {
      "cell_type": "code",
      "execution_count": null,
      "metadata": {},
      "outputs": [],
      "source": [
        "ax = grid.pivot('depth', 'n_variants', 'lod50').plot(kind='bar')\n",
        "ax.set_ylabel('LoD50')"
      ]
    }
  ],
  "metadata": {
    "kernelspec": {
      "display_name": "Python 3",
      "language": "python",
      "name": "python3"
    },
    "language_info": {
      "name": "python",
      "version": "3.11"
    }
  },
  "nbformat": 4,
  "nbformat_minor": 5
}