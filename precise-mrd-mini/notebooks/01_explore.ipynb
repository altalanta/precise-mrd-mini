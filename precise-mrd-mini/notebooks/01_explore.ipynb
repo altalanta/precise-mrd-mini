{
  "cells": [
    {
      "cell_type": "markdown",
      "metadata": {},
      "source": [
        "# Explore Synthetic Outputs"
      ]
    },
    {
      "cell_type": "markdown",
      "metadata": {},
      "source": [
        "Inspect simulated reads and MRD calls. Comments highlight design trade-offs (UMI thresholds, beta-binomial priors)."
      ]
    },
    {
      "cell_type": "code",
      "execution_count": null,
      "metadata": {},
      "outputs": [],
      "source": [
        "import pandas as pd\n",
        "variants = pd.read_csv('../data/ground_truth/variants.csv')\n",
        "collapsed = pd.read_parquet('../tmp/collapsed.parquet')\n",
        "calls = pd.read_csv('../tmp/mrd_calls.csv')\n",
        "variants.head()"
      ]
    },
    {
      "cell_type": "code",
      "execution_count": null,
      "metadata": {},
      "outputs": [],
      "source": [
        "collapsed[['chrom','pos','alt_count','total_count']].plot(x='pos', y=['alt_count','total_count'])\n",
        "calls[['p_value','q_value']].hist()"
      ]
    }
  ],
  "metadata": {
    "kernelspec": {
      "display_name": "Python 3",
      "language": "python",
      "name": "python3"
    },
    "language_info": {
      "name": "python",
      "version": "3.11"
    }
  },
  "nbformat": 4,
  "nbformat_minor": 5
}